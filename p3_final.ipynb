{
 "cells": [
  {
   "cell_type": "code",
   "execution_count": null,
   "id": "52060414",
   "metadata": {},
   "outputs": [],
   "source": [
    "import numpy as np\n",
    "import matplotlib.pyplot as plt"
   ]
  },
  {
   "cell_type": "code",
   "execution_count": null,
   "id": "b07470fc",
   "metadata": {},
   "outputs": [],
   "source": [
    "def initialize_lattice(size):\n",
    "    return np.ones((size, size), dtype=int)"
   ]
  },
  {
   "cell_type": "code",
   "execution_count": null,
   "id": "f234d8d2",
   "metadata": {},
   "outputs": [],
   "source": [
    "def compute_magnetization(lattice):\n",
    "    size = lattice.shape[0]\n",
    "    return np.sum(lattice)/(size**2)"
   ]
  },
  {
   "cell_type": "code",
   "execution_count": null,
   "id": "1dfa6f4f",
   "metadata": {},
   "outputs": [],
   "source": [
    "def metropolis_step(lattice, beta):\n",
    "    size = lattice.shape[0]\n",
    "    i, j = np.random.randint(0, size, 2)\n",
    "\n",
    "    neighbor_sum = lattice[(i + 1) % size, j] + lattice[(i - 1) % size, j] + lattice[i, (j + 1) % size] + lattice[i, (j - 1) % size]\n",
    "\n",
    "    delta_energy = 2 * lattice[i, j] * neighbor_sum\n",
    "    if delta_energy < 0 or np.random.rand() < np.exp(-beta * delta_energy):\n",
    "        lattice[i, j] *= -1"
   ]
  },
  {
   "cell_type": "code",
   "execution_count": null,
   "id": "891053c0",
   "metadata": {},
   "outputs": [],
   "source": [
    "def metropolis_simulation(size, beta, kmax):\n",
    "    lattice = initialize_lattice(size)\n",
    "    running_mean = compute_magnetization(lattice)\n",
    "    running_var = 0\n",
    "\n",
    "    for k in range(1, kmax + 1):\n",
    "        metropolis_step(lattice, beta)\n",
    "        magnetization = compute_magnetization(lattice)\n",
    "        \n",
    "        running_mean_prev = running_mean\n",
    "        running_mean = running_mean + (magnetization-running_mean) / (k+1)\n",
    "        if k >= 2:\n",
    "            running_var = ((k-2)*running_var + (magnetization - running_mean)**2) / (k-1)\n",
    "\n",
    "    return running_mean, running_var"
   ]
  },
  {
   "cell_type": "code",
   "execution_count": null,
   "id": "81e5aeac",
   "metadata": {},
   "outputs": [],
   "source": [
    "beta_values = np.arange(0.2, 1.01, 0.01)\n",
    "kmax = 10**7\n",
    "lattice_size = 30\n",
    "mean_arr = np.array([])\n",
    "std_arr = np.array([])\n",
    "\n",
    "for beta in beta_values:\n",
    "    mean_magnetizations, var = metropolis_simulation(lattice_size, beta, kmax)\n",
    "    mean_arr = np.append(mean_arr, mean_magnetizations)\n",
    "    std_arr = np.append(std_arr, np.sqrt(var))\n",
    "    plt.plot(beta, mean_magnetizations, 'ro', markersize=2)\n",
    "\n",
    "plt.plot(beta_values, mean_arr + std_arr, 'r--', markersize=2)\n",
    "plt.plot(beta_values, mean_arr - std_arr, 'r--', markersize=2)\n",
    "    \n",
    "condition = [beta_values < 0.4408, beta_values >= 0.4408]\n",
    "uB = np.piecewise(beta_values, condition, [0, lambda beta: (1 - (np.sinh(2*beta))**(-4))**(1/8)])\n",
    "plt.plot(beta_values, uB, 'blue', markersize=2)\n",
    "    \n",
    "plt.grid()\n",
    "plt.xlabel('Beta (β)')\n",
    "plt.ylabel('Mean Magnetization')\n",
    "plt.title('Mean Magnetization vs Beta for 2D Ising Model')\n",
    "plt.show()"
   ]
  },
  {
   "cell_type": "code",
   "execution_count": null,
   "id": "180967fa",
   "metadata": {},
   "outputs": [],
   "source": []
  }
 ],
 "metadata": {
  "kernelspec": {
   "display_name": "Python 3 (ipykernel)",
   "language": "python",
   "name": "python3"
  },
  "language_info": {
   "codemirror_mode": {
    "name": "ipython",
    "version": 3
   },
   "file_extension": ".py",
   "mimetype": "text/x-python",
   "name": "python",
   "nbconvert_exporter": "python",
   "pygments_lexer": "ipython3",
   "version": "3.11.5"
  }
 },
 "nbformat": 4,
 "nbformat_minor": 5
}
